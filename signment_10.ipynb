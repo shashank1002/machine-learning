{
 "cells": [
  {
   "cell_type": "markdown",
   "id": "94625831",
   "metadata": {},
   "source": [
    "1. Define the Bayesian interpretation of probability."
   ]
  },
  {
   "cell_type": "markdown",
   "id": "6df5b526",
   "metadata": {},
   "source": [
    "Bayesian probability is the study of subjective probabilities or belief in an outcome, compared to the frequentist approach where probabilities are based purely on the past occurrence of the event. A Bayesian Network captures the joint probabilities of the events represented by the model."
   ]
  },
  {
   "cell_type": "markdown",
   "id": "0a42f123",
   "metadata": {},
   "source": [
    "2. Define probability of a union of two events with equation."
   ]
  },
  {
   "cell_type": "markdown",
   "id": "8ad375af",
   "metadata": {},
   "source": [
    "The general probability addition rule for the union of two events states that P(A∪B)=P(A)+P(B)−P(A∩B), where A∩B is the intersection of the two sets."
   ]
  },
  {
   "cell_type": "markdown",
   "id": "923bd0cd",
   "metadata": {},
   "source": [
    "3. What is joint probability? What is its formula?"
   ]
  },
  {
   "cell_type": "markdown",
   "id": "1ffc383e",
   "metadata": {},
   "source": [
    "Probabilities are combined using multiplication, therefore the joint probability of independent events is calculated as the probability of event A multiplied by the probability of event B. This can be stated formally as follows:\n",
    "\n",
    "Joint Probability: P(A and B) = P(A)*P(B)"
   ]
  },
  {
   "cell_type": "markdown",
   "id": "22e947e3",
   "metadata": {},
   "source": [
    "4. What is chain rule of probability?"
   ]
  },
  {
   "cell_type": "markdown",
   "id": "8c743114",
   "metadata": {},
   "source": [
    "The chain rule, or general product rule, calculates any component of the joint distribution of a set of random variables using only conditional probabilities. This probability theory is used as a foundation for backpropagation and in creating Bayesian networks."
   ]
  },
  {
   "cell_type": "markdown",
   "id": "7244f8b6",
   "metadata": {},
   "source": [
    "5. What is conditional probability means? What is the formula of it?"
   ]
  },
  {
   "cell_type": "markdown",
   "id": "0a5b5cbf",
   "metadata": {},
   "source": [
    "Conditional probability is defined as the likelihood of an event or outcome occurring, based on the occurrence of a previous event or outcome.\n",
    "\n",
    "Conditional "
   ]
  },
  {
   "cell_type": "markdown",
   "id": "ed18e46b",
   "metadata": {},
   "source": [
    "6. What are continuous random variables?"
   ]
  },
  {
   "cell_type": "markdown",
   "id": "bbfafb0a",
   "metadata": {},
   "source": [
    "A continuous random variable can be defined as a random variable that can take on an infinite number of possible values. Due to this, the probability that a continuous random variable will take on an exact value is 0. The cumulative distribution function and the probability density function are used to describe the characteristics of a continuous random variable."
   ]
  },
  {
   "cell_type": "markdown",
   "id": "2a472c98",
   "metadata": {},
   "source": [
    "7. What are Bernoulli distributions? What is the formula of it?"
   ]
  },
  {
   "cell_type": "markdown",
   "id": "3be370b4",
   "metadata": {},
   "source": [
    "Bernoulli Distribution is a special kind of distribution that is used to model real-life examples and can be used in many different types of applications. A random experiment that can only have an outcome of either 1 or 0 is known as a Bernoulli trial. Such an experiment is used in a Bernoulli distribution.\n",
    "\n",
    "f(k;p) = pk + (1-k)(1-p)"
   ]
  },
  {
   "cell_type": "markdown",
   "id": "b7004c9f",
   "metadata": {},
   "source": [
    "8. What is binomial distribution? What is the formula?"
   ]
  },
  {
   "cell_type": "markdown",
   "id": "c226a621",
   "metadata": {},
   "source": [
    "The binomial distribution is the sum of a series of multiple independent and identically distributed Bernoulli trials\n",
    "\n",
    "P(X= x) = nCxpxqn-x"
   ]
  },
  {
   "cell_type": "markdown",
   "id": "06eba53d",
   "metadata": {},
   "source": [
    "9. What is Poisson distribution? What is the formula?"
   ]
  },
  {
   "cell_type": "markdown",
   "id": "20624226",
   "metadata": {},
   "source": [
    "The Poisson distribution is a discrete probability function that means the variable can only take specific values in a given list of numbers, probably infinite.\n",
    "\n",
    "f(x) = P(X=x) = (e-λ*λx )/x"
   ]
  },
  {
   "cell_type": "markdown",
   "id": "d77631ee",
   "metadata": {},
   "source": [
    "10. Define covariance."
   ]
  },
  {
   "cell_type": "markdown",
   "id": "c215458d",
   "metadata": {},
   "source": [
    "Covariance in probability theory and statistics is a measure of the joint variability of two random variables"
   ]
  },
  {
   "cell_type": "markdown",
   "id": "7052c2cc",
   "metadata": {},
   "source": [
    "11. Define correlation"
   ]
  },
  {
   "cell_type": "markdown",
   "id": "97213502",
   "metadata": {},
   "source": [
    "correlation or dependence is any statistical relationship, whether causal or not, between two random variables or bivariate data."
   ]
  },
  {
   "cell_type": "markdown",
   "id": "2c0d070c",
   "metadata": {},
   "source": [
    "12. Define sampling with replacement. Give example."
   ]
  },
  {
   "cell_type": "markdown",
   "id": "1072f5f9",
   "metadata": {},
   "source": [
    "If you sample with replacement, you would choose one person's name, put that person's name back in the hat, and then choose another name. The possibilities for your two-name sample are: John, John. John, Jack."
   ]
  },
  {
   "cell_type": "markdown",
   "id": "b3eb32d9",
   "metadata": {},
   "source": [
    "13. What is sampling without replacement? Give example."
   ]
  },
  {
   "cell_type": "markdown",
   "id": "14a658d6",
   "metadata": {},
   "source": [
    "In sampling without replacement, each sample unit of the population has only one chance to be selected in the sample. For example, if one draws a simple random sample such that no unit occurs more than one time in the sample, the sample is drawn without replacement."
   ]
  },
  {
   "cell_type": "markdown",
   "id": "c3171264",
   "metadata": {},
   "source": [
    "14. What is hypothesis? Give example."
   ]
  },
  {
   "cell_type": "markdown",
   "id": "0df338ba",
   "metadata": {},
   "source": [
    "A hypothesis (pl.: hypotheses) is a proposed explanation for a phenomenon.A working hypothesis is a provisionally accepted hypothesis proposed for further research. in a process beginning with an educated guess or thought.\n",
    "\n",
    "an educated guess—based on observations—of what the results of your experiment or research will be. Some hypothesis examples include: If I water plants daily they will grow faster."
   ]
  }
 ],
 "metadata": {
  "kernelspec": {
   "display_name": "Python 3 (ipykernel)",
   "language": "python",
   "name": "python3"
  },
  "language_info": {
   "codemirror_mode": {
    "name": "ipython",
    "version": 3
   },
   "file_extension": ".py",
   "mimetype": "text/x-python",
   "name": "python",
   "nbconvert_exporter": "python",
   "pygments_lexer": "ipython3",
   "version": "3.11.5"
  }
 },
 "nbformat": 4,
 "nbformat_minor": 5
}
