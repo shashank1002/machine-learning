{
 "cells": [
  {
   "cell_type": "markdown",
   "id": "8cddecb8",
   "metadata": {},
   "source": [
    "1. What are the key tasks involved in getting ready to work with machine learning modeling?"
   ]
  },
  {
   "cell_type": "markdown",
   "id": "543cbc90",
   "metadata": {},
   "source": [
    "Data Collection, \n",
    "Data Preparation, \n",
    "Choose a Model,\n",
    "Train the Model, \n",
    "Evaluate the Model, \n",
    "Parameter Tuning, \n",
    "Make Predictions"
   ]
  },
  {
   "cell_type": "code",
   "execution_count": null,
   "id": "3bddb14c",
   "metadata": {},
   "outputs": [],
   "source": []
  },
  {
   "cell_type": "markdown",
   "id": "e1bd9d97",
   "metadata": {},
   "source": [
    "2. What are the different forms of data used in machine learning? Give a specific example for each of\n",
    "them."
   ]
  },
  {
   "cell_type": "raw",
   "id": "5cd03eb8",
   "metadata": {},
   "source": [
    "numerical data, categorical data, time series data, and text data"
   ]
  },
  {
   "cell_type": "code",
   "execution_count": null,
   "id": "5390acc6",
   "metadata": {},
   "outputs": [],
   "source": []
  },
  {
   "cell_type": "markdown",
   "id": "09133f01",
   "metadata": {},
   "source": [
    "3. \n",
    "Distinguish:\n",
    "\n",
    "1. Numeric vs. categorical attributes\n",
    "\n",
    "2. Feature selection vs. dimensionality reduction"
   ]
  },
  {
   "cell_type": "markdown",
   "id": "e93a72b0",
   "metadata": {},
   "source": [
    "1. A categorical variable is a variable with a set number of groups (gender, colors of the rainbow, brands of cereal)\n",
    "\n",
    "   numeric variable is generally something that can be measured (height, weight, miles per hour)\n",
    "   \n",
    "2. Feature selection is simply selecting and excluding given features without changing them\n",
    "\n",
    "   Dimensionally Reduction transforms the features into a lower dimension"
   ]
  },
  {
   "cell_type": "code",
   "execution_count": null,
   "id": "c2d7aebc",
   "metadata": {},
   "outputs": [],
   "source": []
  },
  {
   "cell_type": "markdown",
   "id": "cd70ae7e",
   "metadata": {},
   "source": [
    "4. \n",
    "Make quick notes on any two of the following:\n",
    "\n",
    "1. The histogram\n",
    "\n",
    "2. Use a scatter plot\n",
    "\n",
    "3. PCA (Personal Computer Aid)"
   ]
  },
  {
   "cell_type": "markdown",
   "id": "07725e0a",
   "metadata": {},
   "source": [
    "1. The histogram is a popular graphing tool. It is used to summarize discrete or continuous data that are measured on an interval scale. It is often used to illustrate the major features of the distribution of the data in a convenient form.\n",
    "\n",
    "2.Scatter plots' primary uses are to observe and show relationships between two numeric variables. The dots in a scatter plot not only report the values of individual data points, but also patterns when the data are taken as a whole."
   ]
  },
  {
   "cell_type": "code",
   "execution_count": null,
   "id": "1d7fd0d2",
   "metadata": {},
   "outputs": [],
   "source": []
  },
  {
   "cell_type": "markdown",
   "id": "75432f1b",
   "metadata": {},
   "source": [
    "5. Why is it necessary to investigate data? Is there a discrepancy in how qualitative and quantitative\n",
    "data are explored?"
   ]
  },
  {
   "cell_type": "code",
   "execution_count": null,
   "id": "a64c2fa1",
   "metadata": {},
   "outputs": [],
   "source": []
  },
  {
   "cell_type": "code",
   "execution_count": null,
   "id": "e861a25b",
   "metadata": {},
   "outputs": [],
   "source": []
  },
  {
   "cell_type": "markdown",
   "id": "fd528b16",
   "metadata": {},
   "source": [
    "6. What are the various histogram shapes? What exactly are 'bins'."
   ]
  },
  {
   "cell_type": "markdown",
   "id": "26d8d43d",
   "metadata": {},
   "source": [
    "types of histogram\n",
    "\n",
    "1. Normal Distribution\n",
    "\n",
    "2. Skewed Distribution\n",
    "\n",
    "3. Double-Peaked\n",
    "\n",
    "4. Plateau\n",
    "\n",
    "5. Edge Peak Distribution\n",
    "\n",
    "Bins are also sometimes called \"intervals\", \"classes\", or \"buckets\"."
   ]
  },
  {
   "cell_type": "code",
   "execution_count": null,
   "id": "cce21881",
   "metadata": {},
   "outputs": [],
   "source": []
  },
  {
   "cell_type": "markdown",
   "id": "d52827a0",
   "metadata": {},
   "source": [
    "7. How do we deal with data outliers?"
   ]
  },
  {
   "cell_type": "markdown",
   "id": "b9c93baf",
   "metadata": {},
   "source": [
    "1. remove \n",
    "\n",
    "2. Transform outliers\n",
    "\n",
    "3. Impute outliers\n",
    "\n",
    "4. Use robust statistical methods"
   ]
  },
  {
   "cell_type": "code",
   "execution_count": null,
   "id": "6760e5bd",
   "metadata": {},
   "outputs": [],
   "source": []
  },
  {
   "cell_type": "markdown",
   "id": "a573b5f7",
   "metadata": {},
   "source": [
    "8. What are the various central inclination measures? Why does mean vary too much from median in\n",
    "certain data sets?"
   ]
  },
  {
   "cell_type": "markdown",
   "id": "cdc60073",
   "metadata": {},
   "source": [
    "Mean, Median, Mode\n",
    "\n",
    "when there are a few extremely high values in the data set that significantly increase the average, but do not affect the position of the middle value."
   ]
  },
  {
   "cell_type": "code",
   "execution_count": null,
   "id": "e87b2d89",
   "metadata": {},
   "outputs": [],
   "source": []
  }
 ],
 "metadata": {
  "kernelspec": {
   "display_name": "Python 3 (ipykernel)",
   "language": "python",
   "name": "python3"
  },
  "language_info": {
   "codemirror_mode": {
    "name": "ipython",
    "version": 3
   },
   "file_extension": ".py",
   "mimetype": "text/x-python",
   "name": "python",
   "nbconvert_exporter": "python",
   "pygments_lexer": "ipython3",
   "version": "3.11.5"
  }
 },
 "nbformat": 4,
 "nbformat_minor": 5
}
